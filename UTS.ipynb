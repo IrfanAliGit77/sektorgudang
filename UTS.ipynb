produk = {
    'Produk' : ['Herbal', 'Obat', 'Bahan Herbal'],
    'Herbal' : ['Jamu Tradisional','Makanan','Minuman', 'Obat Herbal', 'Suplemen & Vitamin'],
    'Obat' : ['Ethical/Prescription','OTC'],
    'Bahan Herbal' : ['Bubuk'],
    'Jamu Tradisional' : ['Jamu Batuk','Jamu Bersalin', 'Jamu Encok', 'Jamu Gemuk Sehat', 'Jamu Klingsir'],
    'Makanan' : ['Permen Jahe', 'Permen Kunyit', 'Permen Tolak Angin', 'Permen Tolak Angin Bebas Gula'],
    'Minuman' : ['Susu Jahe', 'Kopi Jahe', 'Kunyit Asam', 'ESTE EMJE', 'Minuman Madu'],
    'Obat Herbal' : ['Tolak Linu', 'Tolak Angin Cair', 'Tolak Angin Flu', 'Tolak Angin Care', 'Sari Kunyit Capsule'],
    'Suplemen & Vitamin' : ['KukuBima Ener-G', 'C-1000', 'Bilberry Carrot', 'Vitamin D3 400', 'Fatraper'],
    'Ethical/Prescription' : ['Bloxer', 'Licoprox', 'Barloson-N Cream', 'Berlicort Cream', 'Licodium Kaplet'],
    'OTC' : ['Sido Kliin', 'Daktazol Cream', 'Imuco Sirup', 'Anabion Sirup', 'Berlosid Tablet'],
    'Bubuk' : ['Brotowali', 'Daun Kelor', 'Jati Belanda', 'Jahe', 'Kencur']
    }

def masuk(jenis, produk):
    list_of_masuk=[]
    
    if produk in jenis:
        list_of_masuk=jenis[produk]
        for e in jenis[produk]:
            for i in masuk(jenis, e):
                if i not in list_of_masuk:
                    list_of_masuk+=masuk(jenis,e)
    else:
        list_of_masuk+=[]
        
    return list_of_masuk

# 1st Printing
print ('Melihat Data Obat : ')
print (masuk(produk, 'Obat'))
print ('')

# 2nd Printing
print ('Melihat Data Makanan : ')
print (masuk(produk, 'Makanan'))
print ('')

# 3rd Printing
print ('Melihat Data Produk : ')
print (masuk(produk, 'Produk'))
print ('')


def recursive_dfs(produk, source,path = []):

       if source not in path:

           path.append(source)

           if source not in produk:
               # leaf node, backtrack
               return path

           for neighbour in produk[source]:

               path = recursive_dfs(produk, neighbour, path)


       return path
path = recursive_dfs(produk, 'Minuman')

print ('Pencarian Minuman Menggunakan Metode DFS :')
print(" ".join(path))
