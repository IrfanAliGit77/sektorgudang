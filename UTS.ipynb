produk = {
    'Produk' : ['Herbal', 'Obat', 'Bahan Herbal'],
    'Herbal' : ['Jamu Tradisional','Makanan','Minuman', 'Obat Herbal', 'Suplemen & Vitamin'],
    'Obat' : ['Ethical/Prescription','OTC'],
    'Bahan Herbal' : ['Bubuk'],
    'Jamu Tradisional' : ['Jamu Batuk','Jamu Bersalin', 'Jamu Encok', 'Jamu Gemuk Sehat', 'Jamu Klingsir'],
    'Makanan' : ['Permen Jahe', 'Permen Kunyit', 'Permen Tolak Angin', 'Permen Tolak Angin Bebas Gula'],
    'Minuman' : ['Susu Jahe', 'Kopi Jahe', 'Kunyit Asam', 'ESTE EMJE', 'Minuman Madu'],
    'Obat Herbal' : ['Tolak Linu', 'Tolak Angin Cair', 'Tolak Angin Flu', 'Tolak Angin Care', 'Sari Kunyit Capsule'],
    'Suplemen & Vitamin' : ['KukuBima Ener-G', 'C-1000', 'Bilberry Carrot', 'Vitamin D3 400', 'Fatraper'],
    'Ethical/Prescription' : ['Bloxer', 'Licoprox', 'Barloson-N Cream', 'Berlicort Cream', 'Licodium Kaplet'],
    'OTC' : ['Sido Kliin', 'Daktazol Cream', 'Imuco Sirup', 'Anabion Sirup', 'Berlosid Tablet'],
    'Bubuk' : ['Brotowali', 'Daun Kelor', 'Jati Belanda', 'Jahe', 'Kencur']
    }

def masuk(jenis, produk):
    list_of_masuk=[]
    
    if produk in jenis:
        list_of_masuk=jenis[produk]
        for e in jenis[produk]:
            for i in masuk(jenis, e):
                if i not in list_of_masuk:
                    list_of_masuk+=masuk(jenis,e)
    else:
        list_of_masuk+=[]
        
    return list_of_masuk

def dfs(graph, start, end):
    stack=[[start]]
    visited=set()

    while stack:
       
        panjang_stack=len(stack)-1
        jalur=stack.pop(panjang_stack)
        state=jalur[-1]
     
        if state==end:
            return jalur
        elif state not in visited:
            for cabang in graph.get(state, []):
                jalur_baru = list(jalur)
                jalur_baru.append(cabang)
                stack.append(jalur_baru)
           
            visited.add(state)
       
        isi = len(stack)
        if isi == 0:
            print("Tidak ditemukan")

print('=======================================================')
print('             Aplikasi Pemilahan Data Produk')
print('=======================================================')
print('Menu : ')
print('1. Melihat Data Jenis Produk tertentu')
print('2. Mencari Produk Tertentu')
print('3. Keluar')

pilih = input('Masukkan pilihan[1-3] : ')
print('')

if pilih == '1':
    prod = input('Masukkan Jenis Produk yang ingin dilihat datanya : ')
    print ('Melihat Data ',prod,' : ')
    print (masuk(produk, prod))
    print ('')
elif pilih == '2':
    cari = input('Masukkan Produk yang dicari : ')
    print ('Hasil penelusuran mencari ',cari ,' menggunakan DFS:')
dfs(produk, 'Produk', cari)
elif pilih == '3':
    print('Terimakasih telah menggunakan aplikasi ini :)')
else:
    print('Mohon maaf, menu tidak ada!')
