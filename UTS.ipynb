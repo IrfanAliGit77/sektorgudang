{
 "cells": [
  {
   "cell_type": "code",
   "execution_count": 26,
   "id": "f40558cc",
   "metadata": {},
   "outputs": [
    {
     "name": "stdout",
     "output_type": "stream",
     "text": [
      "Melihat Data Obat : \n",
      "['Ethical/Prescription', 'OTC', 'Bloxer', 'Licoprox', 'Barloson-N Cream', 'Berlicort Cream', 'Licodium Kaplet', 'Sido Kliin', 'Daktazol Cream', 'Imuco Sirup', 'Anabion Sirup', 'Berlosid Tablet']\n",
      "\n",
      "Melihat Data Makanan : \n",
      "['Permen Jahe', 'Permen Kunyit', 'Permen Tolak Angin', 'Permen Tolak Angin Bebas Gula']\n",
      "\n",
      "Melihat Data Produk : \n",
      "['Herbal', 'Obat', 'Bahan Herbal', 'Jamu Tradisional', 'Makanan', 'Minuman', 'Obat Herbal', 'Suplemen & Vitamin', 'Jamu Batuk', 'Jamu Bersalin', 'Jamu Encok', 'Jamu Gemuk Sehat', 'Jamu Klingsir', 'Permen Jahe', 'Permen Kunyit', 'Permen Tolak Angin', 'Permen Tolak Angin Bebas Gula', 'Susu Jahe', 'Kopi Jahe', 'Kunyit Asam', 'ESTE EMJE', 'Minuman Madu', 'Tolak Linu', 'Tolak Angin Cair', 'Tolak Angin Flu', 'Tolak Angin Care', 'Sari Kunyit Capsule', 'KukuBima Ener-G', 'C-1000', 'Bilberry Carrot', 'Vitamin D3 400', 'Fatraper', 'Ethical/Prescription', 'OTC', 'Bloxer', 'Licoprox', 'Barloson-N Cream', 'Berlicort Cream', 'Licodium Kaplet', 'Sido Kliin', 'Daktazol Cream', 'Imuco Sirup', 'Anabion Sirup', 'Berlosid Tablet', 'Bubuk', 'Brotowali', 'Daun Kelor', 'Jati Belanda', 'Jahe', 'Kencur']\n",
      "\n",
      "Pencarian Minuman Menggunakan Metode DFS :\n",
      "Minuman Susu Jahe Kopi Jahe Kunyit Asam ESTE EMJE Minuman Madu\n"
     ]
    }
   ],
   "source": [
    "produk = {\n",
    "    'Produk' : ['Herbal', 'Obat', 'Bahan Herbal'],\n",
    "    'Herbal' : ['Jamu Tradisional','Makanan','Minuman', 'Obat Herbal', 'Suplemen & Vitamin'],\n",
    "    'Obat' : ['Ethical/Prescription','OTC'],\n",
    "    'Bahan Herbal' : ['Bubuk'],\n",
    "    'Jamu Tradisional' : ['Jamu Batuk','Jamu Bersalin', 'Jamu Encok', 'Jamu Gemuk Sehat', 'Jamu Klingsir'],\n",
    "    'Makanan' : ['Permen Jahe', 'Permen Kunyit', 'Permen Tolak Angin', 'Permen Tolak Angin Bebas Gula'],\n",
    "    'Minuman' : ['Susu Jahe', 'Kopi Jahe', 'Kunyit Asam', 'ESTE EMJE', 'Minuman Madu'],\n",
    "    'Obat Herbal' : ['Tolak Linu', 'Tolak Angin Cair', 'Tolak Angin Flu', 'Tolak Angin Care', 'Sari Kunyit Capsule'],\n",
    "    'Suplemen & Vitamin' : ['KukuBima Ener-G', 'C-1000', 'Bilberry Carrot', 'Vitamin D3 400', 'Fatraper'],\n",
    "    'Ethical/Prescription' : ['Bloxer', 'Licoprox', 'Barloson-N Cream', 'Berlicort Cream', 'Licodium Kaplet'],\n",
    "    'OTC' : ['Sido Kliin', 'Daktazol Cream', 'Imuco Sirup', 'Anabion Sirup', 'Berlosid Tablet'],\n",
    "    'Bubuk' : ['Brotowali', 'Daun Kelor', 'Jati Belanda', 'Jahe', 'Kencur']\n",
    "    }\n",
    "\n",
    "def ancestors(genealogy, person):\n",
    "    list_of_ancestors=[]\n",
    "    \n",
    "    if person in genealogy:\n",
    "        list_of_ancestors=genealogy[person]\n",
    "        for e in genealogy[person]:\n",
    "            for i in ancestors(genealogy, e):\n",
    "                if i not in list_of_ancestors:\n",
    "                    list_of_ancestors+=ancestors(genealogy,e)\n",
    "    else:\n",
    "        list_of_ancestors+=[]\n",
    "        \n",
    "    return list_of_ancestors\n",
    "\n",
    "# 1st Printing\n",
    "print ('Melihat Data Obat : ')\n",
    "print (ancestors(produk, 'Obat'))\n",
    "print ('')\n",
    "\n",
    "# 2nd Printing\n",
    "print ('Melihat Data Makanan : ')\n",
    "print (ancestors(produk, 'Makanan'))\n",
    "print ('')\n",
    "\n",
    "# 3rd Printing\n",
    "print ('Melihat Data Produk : ')\n",
    "print (ancestors(produk, 'Produk'))\n",
    "print ('')\n",
    "\n",
    "\n",
    "def recursive_dfs(produk, source,path = []):\n",
    "\n",
    "       if source not in path:\n",
    "\n",
    "           path.append(source)\n",
    "\n",
    "           if source not in produk:\n",
    "               # leaf node, backtrack\n",
    "               return path\n",
    "\n",
    "           for neighbour in produk[source]:\n",
    "\n",
    "               path = recursive_dfs(produk, neighbour, path)\n",
    "\n",
    "\n",
    "       return path\n",
    "path = recursive_dfs(produk, 'Minuman')\n",
    "\n",
    "print ('Pencarian Minuman Menggunakan Metode DFS :')\n",
    "print(\" \".join(path))"
   ]
  },
  {
   "cell_type": "code",
   "execution_count": null,
   "id": "d02815f8",
   "metadata": {},
   "outputs": [],
   "source": []
  }
 ],
 "metadata": {
  "kernelspec": {
   "display_name": "Python 3",
   "language": "python",
   "name": "python3"
  },
  "language_info": {
   "codemirror_mode": {
    "name": "ipython",
    "version": 3
   },
   "file_extension": ".py",
   "mimetype": "text/x-python",
   "name": "python",
   "nbconvert_exporter": "python",
   "pygments_lexer": "ipython3",
   "version": "3.8.8"
  }
 },
 "nbformat": 4,
 "nbformat_minor": 5
}
